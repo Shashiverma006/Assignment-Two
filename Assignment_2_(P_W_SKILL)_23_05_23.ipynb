{
  "nbformat": 4,
  "nbformat_minor": 0,
  "metadata": {
    "colab": {
      "private_outputs": true,
      "provenance": []
    },
    "kernelspec": {
      "name": "python3",
      "display_name": "Python 3"
    },
    "language_info": {
      "name": "python"
    }
  },
  "cells": [
    {
      "cell_type": "markdown",
      "source": [
        "Q.1 How do you comment code in python? What are the different types of comment?"
      ],
      "metadata": {
        "id": "wEP1MB80eno1"
      }
    },
    {
      "cell_type": "markdown",
      "source": [
        "Ans:- Comment is the instruction about code within we describe about code step by step or important note we provide within comment. Comment start with # (Hash) Tag. This is simple line comment. Python ignores the comment line.\n",
        "There are two types of comment:-\n",
        "1.  Single line comment:- This comment start or begining with # (Hash Tag)\n",
        "    Eg- #this is my first comment\n",
        "        #this is my second comment\n",
        "2. Multiple line comment:- Multi lines commenty written in between three cotted ('''   ''')\n",
        "    Eg- \n",
        "    '''\n",
        "    This is my first program.\n",
        "    This is my first comment.\n",
        "    Fist we take variable then we give variable name and in variable we take int, float or strind type data then we take another variable after that we give command to python for print, print(a).\n",
        "    '''\n"
      ],
      "metadata": {
        "id": "WpnnFZRPe8vv"
      }
    },
    {
      "cell_type": "code",
      "source": [
        "#this is my first comment\n",
        "#give the variable name\n",
        "#take whyle loop and include if else condition for loop.\n"
      ],
      "metadata": {
        "id": "uQaLSSqDhmVP"
      },
      "execution_count": null,
      "outputs": []
    },
    {
      "cell_type": "code",
      "execution_count": null,
      "metadata": {
        "id": "7AcVV62DegHO"
      },
      "outputs": [],
      "source": [
        "'''\n",
        "This is my first program.\n",
        "This is my first comment.\n",
        "Fist we take variable then we give variable name and in variable we take int, float or strind type data then we take another variable after that we give command to python for print, print(a).\n",
        "'''"
      ]
    },
    {
      "cell_type": "markdown",
      "source": [
        "Q.2 What is variable in python? How do you declear and assign values to variables?"
      ],
      "metadata": {
        "id": "uNLx8Ju0if5o"
      }
    },
    {
      "cell_type": "markdown",
      "source": [
        "Ans:- Variable is a container of int, float, string or boolian taype value. A python vasriable is a rewserved memory location to store values. In otherword, a variable in a python program gives data to the computer for processing. Every value in python has a datatype. Different data types in Python are Numbers, List, Tuple, String, Dictonary, etc. Variables can be created by any name or even alphabets like a, b, abc etc.  \n",
        "We always use the '=' sign to initialize a value to the variable. We can't use a comma with numbers. Once a data type is define for the variable, then only that type of data can be stored in it. \n",
        "Eg- If a variable is decleared as int, then it can only store integer values.     "
      ],
      "metadata": {
        "id": "YFIZGge9ivfF"
      }
    },
    {
      "cell_type": "code",
      "source": [
        "a=input(int())\n",
        "b=15.4\n",
        "c=input(str())\n",
        "print(a, b, c)"
      ],
      "metadata": {
        "id": "Ccvrs2A5manm"
      },
      "execution_count": null,
      "outputs": []
    },
    {
      "cell_type": "markdown",
      "source": [
        "Q.3 How do you convert one data type to another in python?"
      ],
      "metadata": {
        "id": "6nmm0-sLnqHt"
      }
    },
    {
      "cell_type": "markdown",
      "source": [
        "Ans:- When we convert one data type to another, is called coasting of data.\n",
        "Eg-\n",
        "1. Str to Int:-\n",
        "a='10'\n",
        "b=int(a)\n",
        "print(b)\n",
        "\n",
        "a=\"Data\"\n",
        "b=str(a)\n",
        "print(b)\n",
        "\n",
        "2. Float to Int:-\n",
        "a=10.5\n",
        "b=int(a)\n",
        "print(b)\n",
        "\n",
        "3. Int to Float:- \n",
        "a=10\n",
        "b=float(a)\n",
        "print(b)\n",
        "\n",
        "4. Str to Float:-\n",
        "a='10.5'\n",
        "b=float(a)\n",
        "print(b)\n"
      ],
      "metadata": {
        "id": "LeUer49Tn5hm"
      }
    },
    {
      "cell_type": "code",
      "source": [
        "a='10'\n",
        "b=int(a)\n",
        "print(b)"
      ],
      "metadata": {
        "id": "weUG2-DypRz8"
      },
      "execution_count": null,
      "outputs": []
    },
    {
      "cell_type": "code",
      "source": [
        "a=\"Data\"\n",
        "b=str(a)\n",
        "print(b)"
      ],
      "metadata": {
        "id": "gIlbfbqMpatL"
      },
      "execution_count": null,
      "outputs": []
    },
    {
      "cell_type": "code",
      "source": [
        "a=10.5\n",
        "b=int(a)\n",
        "print(b)"
      ],
      "metadata": {
        "id": "81zQeOSdpdNX"
      },
      "execution_count": null,
      "outputs": []
    },
    {
      "cell_type": "code",
      "source": [
        "a=10\n",
        "b=float(a)\n",
        "print(b)"
      ],
      "metadata": {
        "id": "V2NOJ5Ecpdrs"
      },
      "execution_count": null,
      "outputs": []
    },
    {
      "cell_type": "code",
      "source": [
        "a='10.5'\n",
        "b=float(a)\n",
        "print(b)"
      ],
      "metadata": {
        "id": "8fOn1I1BpqG4"
      },
      "execution_count": null,
      "outputs": []
    },
    {
      "cell_type": "markdown",
      "source": [
        "Q.4 How do you write and execute a Python script frpm the cpmmond line?"
      ],
      "metadata": {
        "id": "x08JmeAs50oR"
      }
    },
    {
      "cell_type": "markdown",
      "source": [
        "Ans:- The most basic and easy way to run or execute a Python script is by using the pythoncommand. For this we need to open a command line and type the word. Python followed the path to our script file like this: python_script.py Hello World! then we hit the Enter kay button to the keyboard and that's it."
      ],
      "metadata": {
        "id": "x_B6gX9U6JUc"
      }
    },
    {
      "cell_type": "code",
      "source": [
        "python_script=\"Hello World!\"\n",
        "print(python_script)"
      ],
      "metadata": {
        "id": "6UA-Prqs742n"
      },
      "execution_count": null,
      "outputs": []
    },
    {
      "cell_type": "markdown",
      "source": [
        "Q.5 Given a list my_list=[1,2,3,4,5]. Write the code to slice the list and obtain the sub-list[2,3]."
      ],
      "metadata": {
        "id": "KXQ82OAI8dkx"
      }
    },
    {
      "cell_type": "markdown",
      "source": [
        "Ans:- The slice() method returns a portion of an iterable as an object of the slice class based on the specified range. It can be used with string, list, tuple, set, bytes, or range objects or custom class object that implements sequence methods __getitem__() and __len__() methods."
      ],
      "metadata": {
        "id": "ONDHDh1g8z7U"
      }
    },
    {
      "cell_type": "code",
      "source": [
        "my_list=[1,2,3,4,5]\n",
        "x = slice(2,3)\n",
        "print(my_list[x])"
      ],
      "metadata": {
        "id": "joZTYLQG81ky"
      },
      "execution_count": null,
      "outputs": []
    },
    {
      "cell_type": "code",
      "source": [
        "mystr = 'TutorialsTeacher'\n",
        "nums = [1,2,3,4,5,6,7,8,9,10]\n",
        "\n",
        "portion1 = slice(9)\n",
        "portion2 = slice(2, 8, 2)   \n",
        "\n",
        "print('slice: ', portion1)\n",
        "print('String value: ', mystr[portion1])\n",
        "print('List value: ', nums[portion1])\n",
        "print('slice: ', portion2)\n",
        "print('String value: ', mystr[portion2])\n",
        "print('List value: ', nums[portion2])"
      ],
      "metadata": {
        "id": "MfAezjq_vdSW"
      },
      "execution_count": null,
      "outputs": []
    },
    {
      "cell_type": "code",
      "source": [
        "nums = [1,2,3,4,5,6,7,8,9,10]\n",
        "odd_portion = slice(0, 10, 2)\n",
        "print(nums[odd_portion])\n",
        "\n",
        "even_portion = slice(1, 10, 2)\n",
        "print(nums[even_portion])"
      ],
      "metadata": {
        "id": "xNJ2zWl0v4Gx"
      },
      "execution_count": null,
      "outputs": []
    },
    {
      "cell_type": "markdown",
      "source": [
        "Q.6 What is a complex number in mathematics, and how is it represented in python?"
      ],
      "metadata": {
        "id": "YvdEGK7T9RUX"
      }
    },
    {
      "cell_type": "markdown",
      "source": [
        "Ans:- The complex number is the combination of a real number and imaginary number. An example of a complex number is 4+3i. Here 4 is a real number and 3i is an imaginary number.\n",
        "In python, Complex numbers are created from two real numbers. We can create it directly or we can use the complex function. It is written in the form of (4 + 3j) where 3 and 4 are real numbers and j is an imaginary number which is the square root of -1."
      ],
      "metadata": {
        "id": "bLQx6cgG9dDJ"
      }
    },
    {
      "cell_type": "code",
      "source": [
        "z = complex(5, 7)\n",
        "print(\"Output:\", z)"
      ],
      "metadata": {
        "id": "f0INZJyj9eaK"
      },
      "execution_count": null,
      "outputs": []
    },
    {
      "cell_type": "code",
      "source": [
        "z1 = 6 + 7j\n",
        "z2 = 1 + 4j\n",
        "print(\"Addition of numbers:\", z1 + z2)\n",
        "print(\"Subtraction of numbers:\", z1 - z2)\n",
        "print(\"Multiplication of numbers:\", z1 * z2)\n",
        "print(\"Division of numbers:\", z1 / z2)"
      ],
      "metadata": {
        "id": "ANXdftqWz00D"
      },
      "execution_count": null,
      "outputs": []
    },
    {
      "cell_type": "markdown",
      "source": [
        "Q.7 What is the correct way to declare a variable named age and assign the value 25 to it?"
      ],
      "metadata": {
        "id": "k-jCFarr82UG"
      }
    },
    {
      "cell_type": "markdown",
      "source": [
        "Ans:- In Python, we need not declare a variable with some specific data type.\n",
        "  Python has no command for declaring a variable. A variable is created when some value is assigned to it. The value assigned to a variable determines the data type of that variable.\n",
        "      Thus, declaring a variable in Python is very simple.\n",
        "      Just name the variable\n",
        "      Assign the required value to it\n",
        "        The data type of the variable will be automatically determined from the value assigned, we need not define it explicitly."
      ],
      "metadata": {
        "id": "w7ieJYmn9Ba-"
      }
    },
    {
      "cell_type": "code",
      "source": [
        "name = \"shashi\"\n",
        "age = \"25\"\n",
        "print (name + ' is ' + age + ' years old ')"
      ],
      "metadata": {
        "id": "l9yafXqv9C0n"
      },
      "execution_count": null,
      "outputs": []
    },
    {
      "cell_type": "code",
      "source": [
        "name = input(\"Shashi\")\n",
        "age = int(\"25\")\n",
        "print(name + \"is\", age, \"years old\")"
      ],
      "metadata": {
        "id": "c_POH4Rk4eg5"
      },
      "execution_count": null,
      "outputs": []
    },
    {
      "cell_type": "markdown",
      "source": [
        "Q.8 Declare a variable named price and assign the value 9.99 to it. What type does this variable belong to?"
      ],
      "metadata": {
        "id": "7EUYAUgG9y_Z"
      }
    },
    {
      "cell_type": "markdown",
      "source": [
        "Ans:- We write the variable name Price and include value within price then we print the variable after that we can know the variable type by type function."
      ],
      "metadata": {
        "id": "H54AiaxU-XhG"
      }
    },
    {
      "cell_type": "code",
      "source": [
        "price=9.99\n",
        "print(price)\n",
        "type(price)"
      ],
      "metadata": {
        "id": "s5qiUv4K-ZJH"
      },
      "execution_count": null,
      "outputs": []
    },
    {
      "cell_type": "markdown",
      "source": [
        "Q.9 Create a variable named name and assign your full name to it as a string. How would you print the value of this variable?"
      ],
      "metadata": {
        "id": "kqh7wexD9DeI"
      }
    },
    {
      "cell_type": "markdown",
      "source": [
        "Ans:- we take a variable their name will be name and in this variable we type our full name then we will print the variable. we can also use the input function for this purpose. "
      ],
      "metadata": {
        "id": "gAJfG2wX9w_Y"
      }
    },
    {
      "cell_type": "code",
      "source": [
        "name=input(str())\n",
        "print(name)"
      ],
      "metadata": {
        "id": "3cS6lbuF9ye8"
      },
      "execution_count": null,
      "outputs": []
    },
    {
      "cell_type": "code",
      "source": [
        "name=str(\"Shashi Kant Verma\")\n",
        "print(name)"
      ],
      "metadata": {
        "id": "KX1QF7P--pCT"
      },
      "execution_count": null,
      "outputs": []
    },
    {
      "cell_type": "code",
      "source": [
        "name=\"Shashi Kant Verma\"\n",
        "print(name)"
      ],
      "metadata": {
        "id": "tuq5vhIo-2wl"
      },
      "execution_count": null,
      "outputs": []
    },
    {
      "cell_type": "markdown",
      "source": [
        "Q.10 Given the string \"Hello World!\", extract the substring \"World\"."
      ],
      "metadata": {
        "id": "j5Q3_lmy-ieD"
      }
    },
    {
      "cell_type": "markdown",
      "source": [
        "Ans:- For this, we use the index number. Since in Hello world H is present on 0 index and end d is present on 9 index means to 5 to 9 index shows the world but in index when we want to take upto last alphabet that we give index number with +1 index then it print upto last alphabet otherwise it print last alphabet-1. "
      ],
      "metadata": {
        "id": "VlaviI0I-3K1"
      }
    },
    {
      "cell_type": "code",
      "source": [
        "s=\"Hello World\"\n",
        "print(s[5:11])"
      ],
      "metadata": {
        "id": "pZQDy1tl-4wY"
      },
      "execution_count": null,
      "outputs": []
    },
    {
      "cell_type": "markdown",
      "source": [
        "Q.11 Create a variable named \"is_student\" and assign it a boolean value indicating whether you are currently a student or not."
      ],
      "metadata": {
        "id": "e8Fj3sMH-5hi"
      }
    },
    {
      "cell_type": "markdown",
      "source": [
        "Ans:- for this, we use the boolian type statement true false and along with if else condition."
      ],
      "metadata": {
        "id": "elkJGYhu_Mjc"
      }
    },
    {
      "cell_type": "code",
      "source": [
        "if is_student=\"True\":\n",
        "  print(is_student, \"You are a student\")\n",
        "else:\n",
        "  is_student=\"False\"\n",
        "  print(\"You are not a Student\")"
      ],
      "metadata": {
        "id": "8ktjw3yFLqka"
      },
      "execution_count": null,
      "outputs": []
    }
  ]
}